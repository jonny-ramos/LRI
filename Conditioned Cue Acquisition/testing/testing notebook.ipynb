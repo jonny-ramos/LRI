{
 "cells": [
  {
   "cell_type": "code",
   "execution_count": 153,
   "metadata": {},
   "outputs": [],
   "source": [
    "import numpy as np\n",
    "import pandas as pd\n",
    "import os\n",
    "\n",
    "coke = ['data_ml/'+f for f in os.listdir('data_ml/') if 'coke' in f]\n",
    "saline = ['data_ml/'+f for f in os.listdir('data_ml/') if 'saline' in f]\n",
    "\n",
    "coke_data = [pd.read_csv(f).drop(labels=['Unnamed: 0'], axis=1) for f in coke]\n",
    "saline_data = [pd.read_csv(f).drop(labels=['Unnamed: 0'], axis=1) for f in saline]"
   ]
  },
  {
   "cell_type": "code",
   "execution_count": 155,
   "metadata": {},
   "outputs": [
    {
     "data": {
      "text/html": [
       "<div>\n",
       "<style scoped>\n",
       "    .dataframe tbody tr th:only-of-type {\n",
       "        vertical-align: middle;\n",
       "    }\n",
       "\n",
       "    .dataframe tbody tr th {\n",
       "        vertical-align: top;\n",
       "    }\n",
       "\n",
       "    .dataframe thead th {\n",
       "        text-align: right;\n",
       "    }\n",
       "</style>\n",
       "<table border=\"1\" class=\"dataframe\">\n",
       "  <thead>\n",
       "    <tr style=\"text-align: right;\">\n",
       "      <th></th>\n",
       "      <th>trial_n</th>\n",
       "      <th>HPC_beta_hi_e</th>\n",
       "      <th>HPC_beta_hi_l</th>\n",
       "      <th>HPC_gamma_lo_e</th>\n",
       "      <th>HPC_gamma_lo_l</th>\n",
       "      <th>HPC_gamma_mid_e</th>\n",
       "      <th>HPC_gamma_mid_l</th>\n",
       "      <th>HPC_gamma_hi_e</th>\n",
       "      <th>HPC_gamma_hi_l</th>\n",
       "      <th>theta_ispc_e</th>\n",
       "      <th>...</th>\n",
       "      <th>PFC_gamma_hi_l</th>\n",
       "      <th>HPC_delta_e</th>\n",
       "      <th>HPC_delta_l</th>\n",
       "      <th>HPC_theta_e</th>\n",
       "      <th>HPC_theta_l</th>\n",
       "      <th>HPC_alpha_e</th>\n",
       "      <th>HPC_alpha_l</th>\n",
       "      <th>HPC_beta_lo_e</th>\n",
       "      <th>HPC_beta_lo_l</th>\n",
       "      <th>label</th>\n",
       "    </tr>\n",
       "  </thead>\n",
       "  <tbody>\n",
       "    <tr>\n",
       "      <th>0</th>\n",
       "      <td>Ephys11_rat1_trial3</td>\n",
       "      <td>1.068518</td>\n",
       "      <td>0.708834</td>\n",
       "      <td>1.416006</td>\n",
       "      <td>0.914051</td>\n",
       "      <td>1.770409</td>\n",
       "      <td>1.459211</td>\n",
       "      <td>2.236279</td>\n",
       "      <td>0.823450</td>\n",
       "      <td>0.933712</td>\n",
       "      <td>...</td>\n",
       "      <td>1.159002</td>\n",
       "      <td>1.451246</td>\n",
       "      <td>0.651968</td>\n",
       "      <td>1.409223</td>\n",
       "      <td>1.957923</td>\n",
       "      <td>1.698677</td>\n",
       "      <td>0.873065</td>\n",
       "      <td>2.996300</td>\n",
       "      <td>1.650027</td>\n",
       "      <td>coke</td>\n",
       "    </tr>\n",
       "    <tr>\n",
       "      <th>1</th>\n",
       "      <td>Ephys11_rat1_trial5</td>\n",
       "      <td>1.353125</td>\n",
       "      <td>1.008216</td>\n",
       "      <td>0.525447</td>\n",
       "      <td>0.668730</td>\n",
       "      <td>0.659680</td>\n",
       "      <td>1.153864</td>\n",
       "      <td>1.530859</td>\n",
       "      <td>0.638536</td>\n",
       "      <td>0.969482</td>\n",
       "      <td>...</td>\n",
       "      <td>2.411314</td>\n",
       "      <td>0.527992</td>\n",
       "      <td>0.798669</td>\n",
       "      <td>2.593818</td>\n",
       "      <td>1.579255</td>\n",
       "      <td>2.117801</td>\n",
       "      <td>0.660050</td>\n",
       "      <td>0.476531</td>\n",
       "      <td>0.698164</td>\n",
       "      <td>coke</td>\n",
       "    </tr>\n",
       "    <tr>\n",
       "      <th>2</th>\n",
       "      <td>Ephys11_rat1_trial6</td>\n",
       "      <td>2.203154</td>\n",
       "      <td>1.056632</td>\n",
       "      <td>1.254921</td>\n",
       "      <td>1.993915</td>\n",
       "      <td>0.313219</td>\n",
       "      <td>0.837855</td>\n",
       "      <td>0.318001</td>\n",
       "      <td>1.082905</td>\n",
       "      <td>0.888647</td>\n",
       "      <td>...</td>\n",
       "      <td>3.035711</td>\n",
       "      <td>0.370975</td>\n",
       "      <td>0.603575</td>\n",
       "      <td>1.285037</td>\n",
       "      <td>2.040748</td>\n",
       "      <td>3.111454</td>\n",
       "      <td>1.459721</td>\n",
       "      <td>0.647974</td>\n",
       "      <td>0.507154</td>\n",
       "      <td>coke</td>\n",
       "    </tr>\n",
       "    <tr>\n",
       "      <th>3</th>\n",
       "      <td>Ephys11_rat1_trial7</td>\n",
       "      <td>0.236947</td>\n",
       "      <td>0.573674</td>\n",
       "      <td>2.579863</td>\n",
       "      <td>1.297780</td>\n",
       "      <td>2.059551</td>\n",
       "      <td>1.436436</td>\n",
       "      <td>0.858867</td>\n",
       "      <td>2.473318</td>\n",
       "      <td>0.993244</td>\n",
       "      <td>...</td>\n",
       "      <td>2.033879</td>\n",
       "      <td>0.306568</td>\n",
       "      <td>0.352373</td>\n",
       "      <td>0.912831</td>\n",
       "      <td>2.621212</td>\n",
       "      <td>0.668104</td>\n",
       "      <td>2.100383</td>\n",
       "      <td>1.254038</td>\n",
       "      <td>3.734254</td>\n",
       "      <td>coke</td>\n",
       "    </tr>\n",
       "    <tr>\n",
       "      <th>4</th>\n",
       "      <td>Ephys11_rat1_trial10</td>\n",
       "      <td>1.535195</td>\n",
       "      <td>0.720501</td>\n",
       "      <td>1.025565</td>\n",
       "      <td>1.090089</td>\n",
       "      <td>0.802164</td>\n",
       "      <td>0.709167</td>\n",
       "      <td>1.279446</td>\n",
       "      <td>0.725600</td>\n",
       "      <td>0.938416</td>\n",
       "      <td>...</td>\n",
       "      <td>2.892353</td>\n",
       "      <td>1.703592</td>\n",
       "      <td>0.927768</td>\n",
       "      <td>0.780218</td>\n",
       "      <td>1.173276</td>\n",
       "      <td>0.926458</td>\n",
       "      <td>0.604138</td>\n",
       "      <td>0.510317</td>\n",
       "      <td>0.820307</td>\n",
       "      <td>coke</td>\n",
       "    </tr>\n",
       "    <tr>\n",
       "      <th>...</th>\n",
       "      <td>...</td>\n",
       "      <td>...</td>\n",
       "      <td>...</td>\n",
       "      <td>...</td>\n",
       "      <td>...</td>\n",
       "      <td>...</td>\n",
       "      <td>...</td>\n",
       "      <td>...</td>\n",
       "      <td>...</td>\n",
       "      <td>...</td>\n",
       "      <td>...</td>\n",
       "      <td>...</td>\n",
       "      <td>...</td>\n",
       "      <td>...</td>\n",
       "      <td>...</td>\n",
       "      <td>...</td>\n",
       "      <td>...</td>\n",
       "      <td>...</td>\n",
       "      <td>...</td>\n",
       "      <td>...</td>\n",
       "      <td>...</td>\n",
       "    </tr>\n",
       "    <tr>\n",
       "      <th>105</th>\n",
       "      <td>Ephys9_rat1_trial29</td>\n",
       "      <td>1.038786</td>\n",
       "      <td>0.905508</td>\n",
       "      <td>0.600404</td>\n",
       "      <td>1.167414</td>\n",
       "      <td>0.202809</td>\n",
       "      <td>0.752905</td>\n",
       "      <td>0.612620</td>\n",
       "      <td>0.937095</td>\n",
       "      <td>0.844497</td>\n",
       "      <td>...</td>\n",
       "      <td>1.975647</td>\n",
       "      <td>0.814589</td>\n",
       "      <td>1.956629</td>\n",
       "      <td>0.648874</td>\n",
       "      <td>0.849748</td>\n",
       "      <td>3.792608</td>\n",
       "      <td>3.748215</td>\n",
       "      <td>0.805953</td>\n",
       "      <td>0.699065</td>\n",
       "      <td>saline</td>\n",
       "    </tr>\n",
       "    <tr>\n",
       "      <th>106</th>\n",
       "      <td>Ephys9_rat1_trial30</td>\n",
       "      <td>2.137346</td>\n",
       "      <td>1.378734</td>\n",
       "      <td>3.978986</td>\n",
       "      <td>2.355777</td>\n",
       "      <td>1.016023</td>\n",
       "      <td>1.206306</td>\n",
       "      <td>0.287102</td>\n",
       "      <td>1.792439</td>\n",
       "      <td>0.805406</td>\n",
       "      <td>...</td>\n",
       "      <td>2.921621</td>\n",
       "      <td>1.804442</td>\n",
       "      <td>4.479938</td>\n",
       "      <td>0.745669</td>\n",
       "      <td>2.378635</td>\n",
       "      <td>0.100565</td>\n",
       "      <td>1.207441</td>\n",
       "      <td>0.804753</td>\n",
       "      <td>0.849501</td>\n",
       "      <td>saline</td>\n",
       "    </tr>\n",
       "    <tr>\n",
       "      <th>107</th>\n",
       "      <td>Ephys9_rat1_trial31</td>\n",
       "      <td>0.313450</td>\n",
       "      <td>0.905147</td>\n",
       "      <td>2.162227</td>\n",
       "      <td>1.128755</td>\n",
       "      <td>1.786703</td>\n",
       "      <td>0.462079</td>\n",
       "      <td>1.368112</td>\n",
       "      <td>0.530523</td>\n",
       "      <td>0.867974</td>\n",
       "      <td>...</td>\n",
       "      <td>2.209825</td>\n",
       "      <td>1.136873</td>\n",
       "      <td>0.802013</td>\n",
       "      <td>1.025636</td>\n",
       "      <td>0.665928</td>\n",
       "      <td>8.068981</td>\n",
       "      <td>3.860686</td>\n",
       "      <td>1.417142</td>\n",
       "      <td>1.499355</td>\n",
       "      <td>saline</td>\n",
       "    </tr>\n",
       "    <tr>\n",
       "      <th>108</th>\n",
       "      <td>Ephys9_rat1_trial32</td>\n",
       "      <td>1.220690</td>\n",
       "      <td>0.965357</td>\n",
       "      <td>1.076615</td>\n",
       "      <td>0.704175</td>\n",
       "      <td>2.420966</td>\n",
       "      <td>1.365933</td>\n",
       "      <td>0.743397</td>\n",
       "      <td>1.625042</td>\n",
       "      <td>0.938829</td>\n",
       "      <td>...</td>\n",
       "      <td>0.360491</td>\n",
       "      <td>0.452319</td>\n",
       "      <td>1.879006</td>\n",
       "      <td>1.008930</td>\n",
       "      <td>1.514150</td>\n",
       "      <td>0.251458</td>\n",
       "      <td>0.435848</td>\n",
       "      <td>0.379426</td>\n",
       "      <td>0.706790</td>\n",
       "      <td>saline</td>\n",
       "    </tr>\n",
       "    <tr>\n",
       "      <th>109</th>\n",
       "      <td>Ephys9_rat1_trial33</td>\n",
       "      <td>1.453213</td>\n",
       "      <td>0.750184</td>\n",
       "      <td>0.306889</td>\n",
       "      <td>0.487222</td>\n",
       "      <td>0.492464</td>\n",
       "      <td>1.106719</td>\n",
       "      <td>0.660475</td>\n",
       "      <td>1.128695</td>\n",
       "      <td>0.831689</td>\n",
       "      <td>...</td>\n",
       "      <td>1.152459</td>\n",
       "      <td>1.308715</td>\n",
       "      <td>0.999222</td>\n",
       "      <td>0.960626</td>\n",
       "      <td>1.656711</td>\n",
       "      <td>0.679300</td>\n",
       "      <td>0.492953</td>\n",
       "      <td>1.847438</td>\n",
       "      <td>0.681519</td>\n",
       "      <td>saline</td>\n",
       "    </tr>\n",
       "  </tbody>\n",
       "</table>\n",
       "<p>228 rows × 68 columns</p>\n",
       "</div>"
      ],
      "text/plain": [
       "                  trial_n  HPC_beta_hi_e  HPC_beta_hi_l  HPC_gamma_lo_e  \\\n",
       "0     Ephys11_rat1_trial3       1.068518       0.708834        1.416006   \n",
       "1     Ephys11_rat1_trial5       1.353125       1.008216        0.525447   \n",
       "2     Ephys11_rat1_trial6       2.203154       1.056632        1.254921   \n",
       "3     Ephys11_rat1_trial7       0.236947       0.573674        2.579863   \n",
       "4    Ephys11_rat1_trial10       1.535195       0.720501        1.025565   \n",
       "..                    ...            ...            ...             ...   \n",
       "105   Ephys9_rat1_trial29       1.038786       0.905508        0.600404   \n",
       "106   Ephys9_rat1_trial30       2.137346       1.378734        3.978986   \n",
       "107   Ephys9_rat1_trial31       0.313450       0.905147        2.162227   \n",
       "108   Ephys9_rat1_trial32       1.220690       0.965357        1.076615   \n",
       "109   Ephys9_rat1_trial33       1.453213       0.750184        0.306889   \n",
       "\n",
       "     HPC_gamma_lo_l  HPC_gamma_mid_e  HPC_gamma_mid_l  HPC_gamma_hi_e  \\\n",
       "0          0.914051         1.770409         1.459211        2.236279   \n",
       "1          0.668730         0.659680         1.153864        1.530859   \n",
       "2          1.993915         0.313219         0.837855        0.318001   \n",
       "3          1.297780         2.059551         1.436436        0.858867   \n",
       "4          1.090089         0.802164         0.709167        1.279446   \n",
       "..              ...              ...              ...             ...   \n",
       "105        1.167414         0.202809         0.752905        0.612620   \n",
       "106        2.355777         1.016023         1.206306        0.287102   \n",
       "107        1.128755         1.786703         0.462079        1.368112   \n",
       "108        0.704175         2.420966         1.365933        0.743397   \n",
       "109        0.487222         0.492464         1.106719        0.660475   \n",
       "\n",
       "     HPC_gamma_hi_l  theta_ispc_e  ...  PFC_gamma_hi_l  HPC_delta_e  \\\n",
       "0          0.823450      0.933712  ...        1.159002     1.451246   \n",
       "1          0.638536      0.969482  ...        2.411314     0.527992   \n",
       "2          1.082905      0.888647  ...        3.035711     0.370975   \n",
       "3          2.473318      0.993244  ...        2.033879     0.306568   \n",
       "4          0.725600      0.938416  ...        2.892353     1.703592   \n",
       "..              ...           ...  ...             ...          ...   \n",
       "105        0.937095      0.844497  ...        1.975647     0.814589   \n",
       "106        1.792439      0.805406  ...        2.921621     1.804442   \n",
       "107        0.530523      0.867974  ...        2.209825     1.136873   \n",
       "108        1.625042      0.938829  ...        0.360491     0.452319   \n",
       "109        1.128695      0.831689  ...        1.152459     1.308715   \n",
       "\n",
       "     HPC_delta_l  HPC_theta_e  HPC_theta_l  HPC_alpha_e  HPC_alpha_l  \\\n",
       "0       0.651968     1.409223     1.957923     1.698677     0.873065   \n",
       "1       0.798669     2.593818     1.579255     2.117801     0.660050   \n",
       "2       0.603575     1.285037     2.040748     3.111454     1.459721   \n",
       "3       0.352373     0.912831     2.621212     0.668104     2.100383   \n",
       "4       0.927768     0.780218     1.173276     0.926458     0.604138   \n",
       "..           ...          ...          ...          ...          ...   \n",
       "105     1.956629     0.648874     0.849748     3.792608     3.748215   \n",
       "106     4.479938     0.745669     2.378635     0.100565     1.207441   \n",
       "107     0.802013     1.025636     0.665928     8.068981     3.860686   \n",
       "108     1.879006     1.008930     1.514150     0.251458     0.435848   \n",
       "109     0.999222     0.960626     1.656711     0.679300     0.492953   \n",
       "\n",
       "     HPC_beta_lo_e  HPC_beta_lo_l   label  \n",
       "0         2.996300       1.650027    coke  \n",
       "1         0.476531       0.698164    coke  \n",
       "2         0.647974       0.507154    coke  \n",
       "3         1.254038       3.734254    coke  \n",
       "4         0.510317       0.820307    coke  \n",
       "..             ...            ...     ...  \n",
       "105       0.805953       0.699065  saline  \n",
       "106       0.804753       0.849501  saline  \n",
       "107       1.417142       1.499355  saline  \n",
       "108       0.379426       0.706790  saline  \n",
       "109       1.847438       0.681519  saline  \n",
       "\n",
       "[228 rows x 68 columns]"
      ]
     },
     "execution_count": 155,
     "metadata": {},
     "output_type": "execute_result"
    }
   ],
   "source": [
    "df = coke_data[0]\n",
    "for i in range(len(coke_data)-1):\n",
    "    df = df.merge(coke_data[i+1], on='trial_n', how='inner')\n",
    "df_coke = df\n",
    "\n",
    "df = saline_data[0]\n",
    "for i in range(len(saline_data)-1):\n",
    "    df = df.merge(saline_data[i+1], on='trial_n', how='inner')\n",
    "df_saline = df\n",
    "\n",
    "df_coke['label'] = 'coke'\n",
    "df_saline['label'] = 'saline'\n",
    "\n",
    "df = pd.concat([df_coke, df_saline])\n",
    "df"
   ]
  },
  {
   "cell_type": "code",
   "execution_count": 218,
   "metadata": {},
   "outputs": [],
   "source": [
    "from sklearn.decomposition import PCA\n",
    "from sklearn.preprocessing import StandardScaler\n",
    "\n",
    "features = [c for c in list(df.columns) if not c == 'trial_n' and not c == 'label']\n",
    "\n",
    "# Separating out the features\n",
    "x = df.loc[:, features].values\n",
    "\n",
    "# Separating out the target\n",
    "y = df.loc[:,['label']].values\n",
    "\n",
    "# Standardizing the features\n",
    "x = StandardScaler().fit_transform(x)\n",
    "\n",
    "n=45\n",
    "pca = PCA(n_components=n)\n",
    "principalComponents = pca.fit_transform(x)\n",
    "\n",
    "\n",
    "principalDf = pd.DataFrame(data = principalComponents, columns = [f'pc{i+1}' for i in range(n)])\n",
    "\n",
    "df.reset_index(inplace=True, drop=True)\n",
    "final_df = pd.concat([principalDf, df[['label']]], axis = 1)"
   ]
  },
  {
   "cell_type": "code",
   "execution_count": 219,
   "metadata": {},
   "outputs": [
    {
     "data": {
      "image/png": "[encoded data removed]",
      "text/plain": [
       "<Figure size 432x288 with 1 Axes>"
      ]
     },
     "metadata": {
      "needs_background": "light"
     },
     "output_type": "display_data"
    }
   ],
   "source": [
    "import matplotlib.pyplot as plt\n",
    "import seaborn as sns\n",
    "sns.scatterplot('pc1', 'pc2', data=final_df, hue='label')\n",
    "\n",
    "plt.show()"
   ]
  },
  {
   "cell_type": "code",
   "execution_count": 220,
   "metadata": {},
   "outputs": [
    {
     "name": "stdout",
     "output_type": "stream",
     "text": [
      "[0.17369817 0.23565237 0.28275722 0.3258874  0.36607352 0.40107899\n",
      " 0.4339667  0.46393634 0.49231667 0.52036862 0.5469416  0.57165764\n",
      " 0.59462115 0.61633057 0.63748415 0.65737535 0.67654372 0.69459358\n",
      " 0.71136007 0.72727593 0.74186489 0.75621443 0.77021823 0.78351339\n",
      " 0.79654977 0.80858644 0.81978588 0.8306505  0.84102682 0.85096392\n",
      " 0.86047248 0.86948739 0.87839427 0.88642306 0.8938841  0.90101554\n",
      " 0.90799651 0.91456891 0.92082768 0.92666506 0.93225741 0.93779827\n",
      " 0.942933   0.94779391 0.95226864]\n"
     ]
    }
   ],
   "source": [
    "print(pca.explained_variance_ratio_.cumsum())"
   ]
  },
  {
   "cell_type": "code",
   "execution_count": 252,
   "metadata": {
    "scrolled": false
   },
   "outputs": [
    {
     "name": "stderr",
     "output_type": "stream",
     "text": [
      "/opt/anaconda3/lib/python3.7/site-packages/sklearn/manifold/t_sne.py:344: DeprecationWarning: `np.float` is a deprecated alias for the builtin `float`. To silence this warning, use `float` by itself. Doing this will not modify any behavior and is safe. If you specifically wanted the numpy scalar type, use `np.float64` here.\n",
      "Deprecated in NumPy 1.20; for more details and guidance: https://numpy.org/devdocs/release/1.20.0-notes.html#deprecations\n",
      "  error = np.finfo(np.float).max\n",
      "/opt/anaconda3/lib/python3.7/site-packages/sklearn/manifold/t_sne.py:345: DeprecationWarning: `np.float` is a deprecated alias for the builtin `float`. To silence this warning, use `float` by itself. Doing this will not modify any behavior and is safe. If you specifically wanted the numpy scalar type, use `np.float64` here.\n",
      "Deprecated in NumPy 1.20; for more details and guidance: https://numpy.org/devdocs/release/1.20.0-notes.html#deprecations\n",
      "  best_error = np.finfo(np.float).max\n",
      "/opt/anaconda3/lib/python3.7/site-packages/sklearn/manifold/t_sne.py:344: DeprecationWarning: `np.float` is a deprecated alias for the builtin `float`. To silence this warning, use `float` by itself. Doing this will not modify any behavior and is safe. If you specifically wanted the numpy scalar type, use `np.float64` here.\n",
      "Deprecated in NumPy 1.20; for more details and guidance: https://numpy.org/devdocs/release/1.20.0-notes.html#deprecations\n",
      "  error = np.finfo(np.float).max\n",
      "/opt/anaconda3/lib/python3.7/site-packages/sklearn/manifold/t_sne.py:345: DeprecationWarning: `np.float` is a deprecated alias for the builtin `float`. To silence this warning, use `float` by itself. Doing this will not modify any behavior and is safe. If you specifically wanted the numpy scalar type, use `np.float64` here.\n",
      "Deprecated in NumPy 1.20; for more details and guidance: https://numpy.org/devdocs/release/1.20.0-notes.html#deprecations\n",
      "  best_error = np.finfo(np.float).max\n"
     ]
    },
    {
     "data": {
      "text/plain": [
       "<matplotlib.axes._subplots.AxesSubplot at 0x7fb0889a2050>"
      ]
     },
     "execution_count": 252,
     "metadata": {},
     "output_type": "execute_result"
    },
    {
     "data": {
      "image/png": "[encoded data removed]",
      "text/plain": [
       "<Figure size 432x288 with 1 Axes>"
      ]
     },
     "metadata": {
      "needs_background": "light"
     },
     "output_type": "display_data"
    }
   ],
   "source": [
    "from sklearn.manifold import TSNE\n",
    "from matplotlib import pyplot\n",
    "tsne = TSNE(n_components=3, random_state=17)\n",
    "%matplotlib inline\n",
    "\n",
    "X_tsne = tsne.fit_transform(x)\n",
    "\n",
    "df_tsne = pd.DataFrame()\n",
    "df_tsne['tsne_1'] = X_tsne[:, 0]\n",
    "df_tsne['tsne_2'] = X_tsne[:, 1]\n",
    "df_tsne['tsne_3'] = X_tsne[:, 2]\n",
    "df_tsne = pd.concat([df_tsne, df[['label']]], axis = 1)\n",
    "sns.scatterplot('tsne_2', 'tsne_1', data=df_tsne, hue='label')"
   ]
  },
  {
   "cell_type": "code",
   "execution_count": 254,
   "metadata": {},
   "outputs": [
    {
     "data": {
      "application/vnd.jupyter.widget-view+json": {
       "model_id": "e8b85289e52c46829a011e2d0e2f2783",
       "version_major": 2,
       "version_minor": 0
      },
      "text/plain": [
       "Canvas(toolbar=Toolbar(toolitems=[('Home', 'Reset original view', 'home', 'home'), ('Back', 'Back to previous …"
      ]
     },
     "metadata": {},
     "output_type": "display_data"
    }
   ],
   "source": [
    "from matplotlib import pyplot\n",
    "from mpl_toolkits.mplot3d import Axes3D\n",
    "from numpy.random import rand\n",
    "from pylab import figure\n",
    "%matplotlib widget\n",
    " \n",
    "fig = figure()\n",
    "ax = fig.add_subplot(projection='3d')\n",
    "\n",
    "for i in range(len(df_tsne)): #plot each point + it's index as text above\n",
    "    if df_tsne.iloc[i]['label'] == 'coke':\n",
    "        c = 'red'\n",
    "    else:\n",
    "        c = 'blue'\n",
    "    ax.scatter(df_tsne.iloc[i][0],df_tsne.iloc[i][1],df_tsne.iloc[i][2],color=c) \n",
    "\n",
    "ax.set_xlabel('tsne_1')\n",
    "ax.set_ylabel('tsne_2')\n",
    "ax.set_zlabel('tsne_3')\n",
    "pyplot.show()"
   ]
  },
  {
   "cell_type": "code",
   "execution_count": 255,
   "metadata": {},
   "outputs": [
    {
     "data": {
      "application/vnd.jupyter.widget-view+json": {
       "model_id": "04d2094d31e346368cf2ebacbb61b0df",
       "version_major": 2,
       "version_minor": 0
      },
      "text/plain": [
       "Canvas(toolbar=Toolbar(toolitems=[('Home', 'Reset original view', 'home', 'home'), ('Back', 'Back to previous …"
      ]
     },
     "metadata": {},
     "output_type": "display_data"
    }
   ],
   "source": [
    "from matplotlib import pyplot\n",
    "from mpl_toolkits.mplot3d import Axes3D\n",
    "from numpy.random import rand\n",
    "from pylab import figure\n",
    "%matplotlib widget\n",
    " \n",
    " \n",
    "fig = figure()\n",
    "ax = fig.add_subplot(projection='3d')\n",
    "\n",
    "for i in range(len(final_df)): #plot each point + it's index as text above\n",
    "    if final_df.iloc[i]['label'] == 'coke':\n",
    "        c = 'red'\n",
    "    else:\n",
    "        c = 'blue'\n",
    "    ax.scatter(final_df.iloc[i][0],final_df.iloc[i][1],final_df.iloc[i][2],color=c) \n",
    "\n",
    "ax.set_xlabel('pc_1')\n",
    "ax.set_ylabel('pc_2')\n",
    "ax.set_zlabel('pc_3')\n",
    "pyplot.show()"
   ]
  },
  {
   "cell_type": "code",
   "execution_count": 9,
   "metadata": {},
   "outputs": [
    {
     "name": "stdout",
     "output_type": "stream",
     "text": [
      "[45. 46. 47. 48. 49. 50. 51. 52. 53. 54.]\n",
      "[ 4.5 14.5 24.5 34.5 44.5 54.5 64.5 74.5 84.5 94.5]\n"
     ]
    }
   ],
   "source": [
    "import numpy as np\n",
    "\n",
    "arr = np.arange(100)\n",
    "print(np.reshape(arr, (10,10)).mean(axis=0))\n",
    "print(np.reshape(arr, (10,10)).mean(axis=1))"
   ]
  },
  {
   "cell_type": "code",
   "execution_count": 7,
   "metadata": {},
   "outputs": [
    {
     "data": {
      "text/plain": [
       "array([[ 0,  1,  2,  3,  4,  5,  6,  7,  8,  9],\n",
       "       [10, 11, 12, 13, 14, 15, 16, 17, 18, 19],\n",
       "       [20, 21, 22, 23, 24, 25, 26, 27, 28, 29],\n",
       "       [30, 31, 32, 33, 34, 35, 36, 37, 38, 39],\n",
       "       [40, 41, 42, 43, 44, 45, 46, 47, 48, 49],\n",
       "       [50, 51, 52, 53, 54, 55, 56, 57, 58, 59],\n",
       "       [60, 61, 62, 63, 64, 65, 66, 67, 68, 69],\n",
       "       [70, 71, 72, 73, 74, 75, 76, 77, 78, 79],\n",
       "       [80, 81, 82, 83, 84, 85, 86, 87, 88, 89],\n",
       "       [90, 91, 92, 93, 94, 95, 96, 97, 98, 99]])"
      ]
     },
     "execution_count": 7,
     "metadata": {},
     "output_type": "execute_result"
    }
   ],
   "source": [
    "np.reshape(arr,(10,10))"
   ]
  },
  {
   "cell_type": "code",
   "execution_count": 14,
   "metadata": {},
   "outputs": [
    {
     "data": {
      "text/plain": [
       "array([45., 46., 47., 48., 49., 50., 51., 52., 53., 54.])"
      ]
     },
     "execution_count": 14,
     "metadata": {},
     "output_type": "execute_result"
    }
   ],
   "source": [
    "np.reshape(arr, (10,10)).T.mean(axis=1)"
   ]
  },
  {
   "cell_type": "code",
   "execution_count": 15,
   "metadata": {},
   "outputs": [
    {
     "data": {
      "text/plain": [
       "list"
      ]
     },
     "execution_count": 15,
     "metadata": {},
     "output_type": "execute_result"
    }
   ],
   "source": [
    "type([0])"
   ]
  },
  {
   "cell_type": "code",
   "execution_count": null,
   "metadata": {},
   "outputs": [],
   "source": []
  }
 ],
 "metadata": {
  "kernelspec": {
   "display_name": "Python 3",
   "language": "python",
   "name": "python3"
  },
  "language_info": {
   "codemirror_mode": {
    "name": "ipython",
    "version": 3
   },
   "file_extension": ".py",
   "mimetype": "text/x-python",
   "name": "python",
   "nbconvert_exporter": "python",
   "pygments_lexer": "ipython3",
   "version": "3.7.4"
  }
 },
 "nbformat": 4,
 "nbformat_minor": 2
}
