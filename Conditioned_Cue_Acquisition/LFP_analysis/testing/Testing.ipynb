{
 "cells": [
  {
   "cell_type": "code",
   "execution_count": 2,
   "metadata": {},
   "outputs": [],
   "source": [
    "import numpy as np"
   ]
  },
  {
   "cell_type": "code",
   "execution_count": 15,
   "metadata": {},
   "outputs": [
    {
     "data": {
      "text/plain": [
       "{'Ephys11_rat1': 25, 'Ephys5_rat1': 47, 'Ephys6_rat1': 22, 'Ephys9_rat1': 34}"
      ]
     },
     "execution_count": 15,
     "metadata": {},
     "output_type": "execute_result"
    }
   ],
   "source": [
    "f = '/Users/jonathanramos/Desktop/CCA_2023/LFP_analysis/data/data_curated_11_2023/CUE1/Vehicle_coke_PFC_curated.npy'\n",
    "d = np.load(f, allow_pickle=True).item()\n",
    "trials = list(d.keys())\n",
    "trials = sorted(trials)\n",
    "\n",
    "rat = ['_'.join(x.split('_')[:2]) for x in trials]\n",
    "rat, count = np.unique(rat, return_counts=True)\n",
    "d_counts = dict(zip(rat, count))\n",
    "d_counts"
   ]
  },
  {
   "cell_type": "code",
   "execution_count": 17,
   "metadata": {},
   "outputs": [
    {
     "data": {
      "text/plain": [
       "{'Ephys10_rat1': 35, 'Ephys7_rat2': 30, 'Ephys9_rat2': 33}"
      ]
     },
     "execution_count": 17,
     "metadata": {},
     "output_type": "execute_result"
    }
   ],
   "source": [
    "f = '/Users/jonathanramos/Desktop/CCA_2023/LFP_analysis/data/data_curated_11_2023/CUE1/ChABC_coke_PFC_curated.npy'\n",
    "d = np.load(f, allow_pickle=True).item()\n",
    "trials = list(d.keys())\n",
    "trials = sorted(trials)\n",
    "\n",
    "rat = ['_'.join(x.split('_')[:2]) for x in trials]\n",
    "rat, count = np.unique(rat, return_counts=True)\n",
    "d_counts = dict(zip(rat, count))\n",
    "d_counts"
   ]
  },
  {
   "cell_type": "code",
   "execution_count": 22,
   "metadata": {},
   "outputs": [
    {
     "name": "stdout",
     "output_type": "stream",
     "text": [
      "Vehicle:\n",
      "{'Ephys11_rat1': 31, 'Ephys5_rat1': 53, 'Ephys6_rat1': 22, 'Ephys9_rat1': 32}\n",
      "\n",
      "ChABC:\n",
      "{'Ephys10_rat1': 41, 'Ephys7_rat2': 29, 'Ephys9_rat2': 39}\n"
     ]
    }
   ],
   "source": [
    "f = '/Volumes/T7/CCA_Data_Extraction_032024/CUE1/Vehicle_coke_PFC.npy'\n",
    "d = np.load(f, allow_pickle=True).item()\n",
    "trials = list(d.keys())\n",
    "trials = sorted(trials)\n",
    "\n",
    "rat = ['_'.join(x.split('_')[:2]) for x in trials]\n",
    "rat, count = np.unique(rat, return_counts=True)\n",
    "d_counts = dict(zip(rat, count))\n",
    "print('Vehicle:')\n",
    "print(d_counts)\n",
    "\n",
    "f = '/Volumes/T7/CCA_Data_Extraction_032024/CUE1/ChABC_coke_PFC.npy'\n",
    "d = np.load(f, allow_pickle=True).item()\n",
    "trials = list(d.keys())\n",
    "trials = sorted(trials)\n",
    "\n",
    "rat = ['_'.join(x.split('_')[:2]) for x in trials]\n",
    "rat, count = np.unique(rat, return_counts=True)\n",
    "d_counts = dict(zip(rat, count))\n",
    "print('\\nChABC:')\n",
    "print(d_counts)"
   ]
  },
  {
   "cell_type": "code",
   "execution_count": 24,
   "metadata": {},
   "outputs": [
    {
     "name": "stdout",
     "output_type": "stream",
     "text": [
      "Vehicle:\n",
      "{'Ephys11_rat1': 41, 'Ephys5_rat1': 56, 'Ephys6_rat1': 14, 'Ephys9_rat1': 43}\n",
      "\n",
      "ChABC:\n",
      "{'Ephys10_rat1': 37, 'Ephys7_rat2': 40, 'Ephys9_rat2': 49}\n"
     ]
    }
   ],
   "source": [
    "f = '/Volumes/T7/CCA_Data_Extraction_032024/CUE0/Vehicle_coke_PFC.npy'\n",
    "d = np.load(f, allow_pickle=True).item()\n",
    "trials = list(d.keys())\n",
    "trials = sorted(trials)\n",
    "\n",
    "rat = ['_'.join(x.split('_')[:2]) for x in trials]\n",
    "rat, count = np.unique(rat, return_counts=True)\n",
    "d_counts = dict(zip(rat, count))\n",
    "print('Vehicle:')\n",
    "print(d_counts)\n",
    "\n",
    "f = '/Volumes/T7/CCA_Data_Extraction_032024/CUE0/ChABC_coke_PFC.npy'\n",
    "d = np.load(f, allow_pickle=True).item()\n",
    "trials = list(d.keys())\n",
    "trials = sorted(trials)\n",
    "\n",
    "rat = ['_'.join(x.split('_')[:2]) for x in trials]\n",
    "rat, count = np.unique(rat, return_counts=True)\n",
    "d_counts = dict(zip(rat, count))\n",
    "print('\\nChABC:')\n",
    "print(d_counts)"
   ]
  },
  {
   "cell_type": "code",
   "execution_count": 27,
   "metadata": {},
   "outputs": [
    {
     "name": "stdout",
     "output_type": "stream",
     "text": [
      "Vehicle:\n",
      "{'Ephys11_rat1': 33, 'Ephys5_rat1': 53, 'Ephys6_rat1': 22, 'Ephys9_rat1': 34}\n",
      "\n",
      "ChABC:\n",
      "{'Ephys10_rat1': 42, 'Ephys7_rat2': 31, 'Ephys9_rat2': 42}\n"
     ]
    }
   ],
   "source": [
    "f = '/Users/jonathanramos/Desktop/CCA_2023/curation/data_aggregated/CUE1/Vehicle_coke_PFC.npy'\n",
    "d = np.load(f, allow_pickle=True).item()\n",
    "trials = list(d.keys())\n",
    "trials = sorted(trials)\n",
    "\n",
    "rat = ['_'.join(x.split('_')[:2]) for x in trials]\n",
    "rat, count = np.unique(rat, return_counts=True)\n",
    "d_counts = dict(zip(rat, count))\n",
    "print('Vehicle:')\n",
    "print(d_counts)\n",
    "\n",
    "f = '/Users/jonathanramos/Desktop/CCA_2023/curation/data_aggregated/CUE1/ChABC_coke_PFC.npy'\n",
    "d = np.load(f, allow_pickle=True).item()\n",
    "trials = list(d.keys())\n",
    "trials = sorted(trials)\n",
    "\n",
    "rat = ['_'.join(x.split('_')[:2]) for x in trials]\n",
    "rat, count = np.unique(rat, return_counts=True)\n",
    "d_counts = dict(zip(rat, count))\n",
    "print('\\nChABC:')\n",
    "print(d_counts)"
   ]
  },
  {
   "cell_type": "code",
   "execution_count": null,
   "metadata": {},
   "outputs": [],
   "source": [
    "df"
   ]
  }
 ],
 "metadata": {
  "kernelspec": {
   "display_name": "Python 3",
   "language": "python",
   "name": "python3"
  },
  "language_info": {
   "codemirror_mode": {
    "name": "ipython",
    "version": 3
   },
   "file_extension": ".py",
   "mimetype": "text/x-python",
   "name": "python",
   "nbconvert_exporter": "python",
   "pygments_lexer": "ipython3",
   "version": "3.7.4"
  }
 },
 "nbformat": 4,
 "nbformat_minor": 2
}
