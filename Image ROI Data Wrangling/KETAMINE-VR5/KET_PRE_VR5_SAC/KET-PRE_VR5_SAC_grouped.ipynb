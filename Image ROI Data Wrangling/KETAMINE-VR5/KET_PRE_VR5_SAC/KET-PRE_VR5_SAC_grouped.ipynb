{
 "cells": [
  {
   "cell_type": "markdown",
   "metadata": {},
   "source": [
    "# KET PRE VR5 SAC, mean intensities by rat\n",
    "##### Jonathan Ramos 8/26/2024\n",
    "\n",
    "Small nb to group intensities by rat_n, and then aggregate by taking the mean."
   ]
  },
  {
   "cell_type": "code",
   "execution_count": 1,
   "metadata": {},
   "outputs": [],
   "source": [
    "import numpy as np\n",
    "import pandas as pd\n",
    "import shutil\n",
    "import os"
   ]
  },
  {
   "cell_type": "code",
   "execution_count": 2,
   "metadata": {},
   "outputs": [
    {
     "data": {
      "text/plain": [
       "['NORM/KET-VR5_PV_coloc_w_WFA_NORM.csv',\n",
       " 'NORM/KET-VR5_PV_coloc_w_cFos_NORM.csv',\n",
       " 'NORM/KET-VR5_WFA_coloc_w_PV_NORM.csv',\n",
       " 'NORM/KET-VR5_WFA_coloc_w_cFos_NORM.csv',\n",
       " 'NORM/KET-VR5_cFos_coloc_w_PV_NORM.csv',\n",
       " 'NORM/KET-VR5_cFos_coloc_w_WFA_NORM.csv',\n",
       " 'NORM/KET-VR5_single_PV_NORM.csv',\n",
       " 'NORM/KET-VR5_single_WFA_NORM.csv',\n",
       " 'NORM/KET-VR5_single_cFos_NORM.csv',\n",
       " 'NORM/KET-VR5_triple_PV_NORM.csv',\n",
       " 'NORM/KET-VR5_triple_WFA_NORM.csv',\n",
       " 'NORM/KET-VR5_triple_cFos_NORM.csv']"
      ]
     },
     "execution_count": 2,
     "metadata": {},
     "output_type": "execute_result"
    }
   ],
   "source": [
    "files = sorted([f'NORM/{f}' for f in os.listdir('NORM/') if '.csv' in f])\n",
    "files"
   ]
  },
  {
   "cell_type": "code",
   "execution_count": 3,
   "metadata": {},
   "outputs": [],
   "source": [
    "path = 'NORM_means'\n",
    "if os.path.exists(path) and os.path.isdir(path):\n",
    "    shutil.rmtree(path)\n",
    "os.mkdir(path)\n",
    "\n",
    "for f in files:\n",
    "    df = pd.read_csv(f)\n",
    "    df.groupby(['rat_n'])['norm_adj_mmbg'].mean().reset_index()\\\n",
    "        .merge(df[['rat_n', 'react', 'treat']].drop_duplicates(), how='left', on='rat_n')\\\n",
    "        .sort_values(by=['react', 'treat', 'rat_n'])\\\n",
    "        .to_csv(f'{\"/\".join([path, f.split(\"/\")[-1]])}')"
   ]
  }
 ],
 "metadata": {
  "kernelspec": {
   "display_name": "Python 3",
   "language": "python",
   "name": "python3"
  },
  "language_info": {
   "codemirror_mode": {
    "name": "ipython",
    "version": 3
   },
   "file_extension": ".py",
   "mimetype": "text/x-python",
   "name": "python",
   "nbconvert_exporter": "python",
   "pygments_lexer": "ipython3",
   "version": "3.9.1"
  }
 },
 "nbformat": 4,
 "nbformat_minor": 2
}
