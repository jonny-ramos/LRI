{
 "cells": [
  {
   "cell_type": "markdown",
   "metadata": {},
   "source": [
    "# Subsets for stats in R\n",
    "In this notebook I'm just selecting out only the columns we need to perform ANOVA and post hoc tests in R. That is, I only need our measurement (normalized intensity) and treatment/reactivation labels. "
   ]
  },
  {
   "cell_type": "code",
   "execution_count": 1,
   "metadata": {},
   "outputs": [],
   "source": [
    "import os\n",
    "import numpy as np\n",
    "import pandas as pd\n",
    "import shutil"
   ]
  },
  {
   "cell_type": "code",
   "execution_count": 2,
   "metadata": {},
   "outputs": [],
   "source": [
    "if os.path.exists('Rsubsets') and os.path.isdir('Rsubsets'):\n",
    "    shutil.rmtree('Rsubsets')\n",
    "\n",
    "os.mkdir('Rsubsets')\n",
    "    \n",
    "for f in os.listdir('NORM'):\n",
    "    df = pd.read_csv(f'NORM/{f}')\n",
    "\n",
    "    # rename some cols for convenience\n",
    "    df = df.rename(columns={'treatment': 'treat', 'norm_adjusted_mean-background': 'norm_int'})\n",
    "\n",
    "    # write to disk\n",
    "    df[['treat', 'norm_int']].to_csv(f\"Rsubsets/{f.replace('.csv', '_Rsubset.csv')}\")"
   ]
  },
  {
   "cell_type": "code",
   "execution_count": 3,
   "metadata": {},
   "outputs": [],
   "source": [
    "import shutil\n",
    "\n",
    "if os.path.exists('NORM_MEANS') and os.path.isdir('NORM_MEANS'):\n",
    "    shutil.rmtree('NORM_MEANS')\n",
    "\n",
    "os.mkdir('NORM_MEANS')\n",
    "for f in os.listdir('NORM'):\n",
    "    df = pd.read_csv(f'NORM/{f}')\n",
    "\n",
    "    df_means = df.groupby('rat_n')['norm_adjusted_mean-background'].mean().reset_index(name='mean_norm_intensity')\n",
    "    df_merge = df[['rat_n', 'coloc_stain_type']].drop_duplicates().merge(df_means)\n",
    "    df_merge['n0'], df_merge['n1'] = zip(*df_merge.rat_n.apply(lambda x: [int(y) for y in x.split('-')[1:]]))\n",
    "    df_merge = df_merge.merge(df_merge.merge(df[['rat_n', 'treatment']].drop_duplicates()))\n",
    "    df_merge = df_merge.sort_values(by=['treatment', 'n0', 'n1'])[['rat_n', 'treatment', 'coloc_stain_type', 'mean_norm_intensity']]\n",
    "\n",
    "    f_means = f.replace('.csv', '_MEANS_BY_RAT.csv')\n",
    "\n",
    "    df_merge.to_csv(f'NORM_MEANS/{f_means}')\n",
    "\n"
   ]
  },
  {
   "cell_type": "code",
   "execution_count": 4,
   "metadata": {},
   "outputs": [
    {
     "data": {
      "text/html": [
       "<div>\n",
       "<style scoped>\n",
       "    .dataframe tbody tr th:only-of-type {\n",
       "        vertical-align: middle;\n",
       "    }\n",
       "\n",
       "    .dataframe tbody tr th {\n",
       "        vertical-align: top;\n",
       "    }\n",
       "\n",
       "    .dataframe thead th {\n",
       "        text-align: right;\n",
       "    }\n",
       "</style>\n",
       "<table border=\"1\" class=\"dataframe\">\n",
       "  <thead>\n",
       "    <tr style=\"text-align: right;\">\n",
       "      <th></th>\n",
       "      <th>rat_n</th>\n",
       "      <th>treatment</th>\n",
       "      <th>coloc_stain_type</th>\n",
       "      <th>mean_norm_intensity</th>\n",
       "    </tr>\n",
       "  </thead>\n",
       "  <tbody>\n",
       "    <tr>\n",
       "      <th>1</th>\n",
       "      <td>KET-8-8</td>\n",
       "      <td>6mg/kg</td>\n",
       "      <td>single_PV</td>\n",
       "      <td>0.637707</td>\n",
       "    </tr>\n",
       "    <tr>\n",
       "      <th>4</th>\n",
       "      <td>KET-8-9</td>\n",
       "      <td>6mg/kg</td>\n",
       "      <td>single_PV</td>\n",
       "      <td>1.105377</td>\n",
       "    </tr>\n",
       "    <tr>\n",
       "      <th>0</th>\n",
       "      <td>KET-8-10</td>\n",
       "      <td>6mg/kg</td>\n",
       "      <td>single_PV</td>\n",
       "      <td>1.376127</td>\n",
       "    </tr>\n",
       "    <tr>\n",
       "      <th>5</th>\n",
       "      <td>KET-8-12</td>\n",
       "      <td>6mg/kg</td>\n",
       "      <td>single_PV</td>\n",
       "      <td>0.670251</td>\n",
       "    </tr>\n",
       "    <tr>\n",
       "      <th>2</th>\n",
       "      <td>KET-8-13</td>\n",
       "      <td>6mg/kg</td>\n",
       "      <td>single_PV</td>\n",
       "      <td>0.928042</td>\n",
       "    </tr>\n",
       "    <tr>\n",
       "      <th>3</th>\n",
       "      <td>KET-8-15</td>\n",
       "      <td>6mg/kg</td>\n",
       "      <td>single_PV</td>\n",
       "      <td>1.450841</td>\n",
       "    </tr>\n",
       "    <tr>\n",
       "      <th>6</th>\n",
       "      <td>KET-8-16</td>\n",
       "      <td>6mg/kg</td>\n",
       "      <td>single_PV</td>\n",
       "      <td>0.971365</td>\n",
       "    </tr>\n",
       "    <tr>\n",
       "      <th>8</th>\n",
       "      <td>KET-6-2</td>\n",
       "      <td>Saline</td>\n",
       "      <td>single_PV</td>\n",
       "      <td>0.874547</td>\n",
       "    </tr>\n",
       "    <tr>\n",
       "      <th>11</th>\n",
       "      <td>KET-6-3</td>\n",
       "      <td>Saline</td>\n",
       "      <td>single_PV</td>\n",
       "      <td>1.118378</td>\n",
       "    </tr>\n",
       "    <tr>\n",
       "      <th>9</th>\n",
       "      <td>KET-6-4</td>\n",
       "      <td>Saline</td>\n",
       "      <td>single_PV</td>\n",
       "      <td>1.122327</td>\n",
       "    </tr>\n",
       "    <tr>\n",
       "      <th>7</th>\n",
       "      <td>KET-6-7</td>\n",
       "      <td>Saline</td>\n",
       "      <td>single_PV</td>\n",
       "      <td>0.713238</td>\n",
       "    </tr>\n",
       "    <tr>\n",
       "      <th>10</th>\n",
       "      <td>KET-6-15</td>\n",
       "      <td>Saline</td>\n",
       "      <td>single_PV</td>\n",
       "      <td>0.591609</td>\n",
       "    </tr>\n",
       "    <tr>\n",
       "      <th>12</th>\n",
       "      <td>KET-7-5</td>\n",
       "      <td>Saline</td>\n",
       "      <td>single_PV</td>\n",
       "      <td>1.579517</td>\n",
       "    </tr>\n",
       "  </tbody>\n",
       "</table>\n",
       "</div>"
      ],
      "text/plain": [
       "       rat_n treatment coloc_stain_type  mean_norm_intensity\n",
       "1    KET-8-8    6mg/kg        single_PV             0.637707\n",
       "4    KET-8-9    6mg/kg        single_PV             1.105377\n",
       "0   KET-8-10    6mg/kg        single_PV             1.376127\n",
       "5   KET-8-12    6mg/kg        single_PV             0.670251\n",
       "2   KET-8-13    6mg/kg        single_PV             0.928042\n",
       "3   KET-8-15    6mg/kg        single_PV             1.450841\n",
       "6   KET-8-16    6mg/kg        single_PV             0.971365\n",
       "8    KET-6-2    Saline        single_PV             0.874547\n",
       "11   KET-6-3    Saline        single_PV             1.118378\n",
       "9    KET-6-4    Saline        single_PV             1.122327\n",
       "7    KET-6-7    Saline        single_PV             0.713238\n",
       "10  KET-6-15    Saline        single_PV             0.591609\n",
       "12   KET-7-5    Saline        single_PV             1.579517"
      ]
     },
     "execution_count": 4,
     "metadata": {},
     "output_type": "execute_result"
    }
   ],
   "source": [
    "df_merge"
   ]
  },
  {
   "cell_type": "code",
   "execution_count": 5,
   "metadata": {},
   "outputs": [],
   "source": [
    "import shutil\n",
    "\n",
    "def normalize_intensity(df, norm_condition, col='mean-background'):\n",
    "    '''\n",
    "    computes the mean of rows of the norm_condition and divides mean-background by this mean,\n",
    "    normalizing all data to the mean of the norm_condition. sets normalized value into new\n",
    "    column called \"norm mean-background\" and returns new dataframe containing normalized intensity.\n",
    "    '''\n",
    "    df_norm = df[df.treatment == norm_condition]\n",
    "    norm_mean = df_norm[col].astype('f').mean()\n",
    "\n",
    "    df_norm = df.copy(deep=True)\n",
    "    df_norm[f'norm_{col}'] = df[col].astype('f') / norm_mean\n",
    "\n",
    "    # quickly check that the mean of the norm condition is set to about 1.00000\n",
    "    # this is never exatly 1 due to small rounding errors from floating point operations\n",
    "    assert round(df_norm[df_norm.treatment == norm_condition][f'norm_{col}'].mean(), 5) == 1\n",
    "    \n",
    "    return df_norm\n",
    "\n",
    "if os.path.exists('R_posthoc_subsets') and os.path.isdir('R_posthoc_subsets'):\n",
    "    shutil.rmtree('R_posthoc_subsets')\n",
    "\n",
    "os.mkdir('R_posthoc_subsets')\n",
    "df = pd.read_csv('POST_VR5_FINAL.csv')\n",
    "\n",
    "for stain in df.stain_type.unique():\n",
    "    df_subset = df.query(f'stain_type == \"{stain}\"')[['stain_type', 'adjusted_mean-background', 'treatment', 'dummy_PV', 'dummy_WFA']]\n",
    "    df_norm = normalize_intensity(df_subset.rename(columns={'adjusted_mean-background': 'intensity'}), norm_condition='Saline', col='intensity')\n",
    "    df_norm.to_csv(f'R_posthoc_subsets/NORM_single_{stain}.csv')"
   ]
  },
  {
   "cell_type": "code",
   "execution_count": 6,
   "metadata": {},
   "outputs": [
    {
     "data": {
      "text/plain": [
       "<Axes: xlabel='dummy_PV', ylabel='norm_intensity'>"
      ]
     },
     "execution_count": 6,
     "metadata": {},
     "output_type": "execute_result"
    },
    {
     "data": {
      "image/png": "[encoded data removed]",
      "text/plain": [
       "<Figure size 640x480 with 1 Axes>"
      ]
     },
     "metadata": {},
     "output_type": "display_data"
    }
   ],
   "source": [
    "# let's just check that the normalized result comes out as we expect \n",
    "\n",
    "import matplotlib.pyplot as plt\n",
    "import seaborn as sns\n",
    "\n",
    "sns.set_theme()\n",
    "sns.barplot(y='norm_intensity',  x='dummy_PV', hue='dummy_PV', data=df_norm)"
   ]
  },
  {
   "cell_type": "code",
   "execution_count": null,
   "metadata": {},
   "outputs": [],
   "source": []
  }
 ],
 "metadata": {
  "kernelspec": {
   "display_name": "Python 3",
   "language": "python",
   "name": "python3"
  },
  "language_info": {
   "codemirror_mode": {
    "name": "ipython",
    "version": 3
   },
   "file_extension": ".py",
   "mimetype": "text/x-python",
   "name": "python",
   "nbconvert_exporter": "python",
   "pygments_lexer": "ipython3",
   "version": "3.9.1"
  }
 },
 "nbformat": 4,
 "nbformat_minor": 2
}
