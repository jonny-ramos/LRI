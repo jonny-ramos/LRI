{
 "cells": [
  {
   "cell_type": "markdown",
   "metadata": {},
   "source": [
    "# Subsets for stats in R\n",
    "In this notebook I'm just selecting out only the columns we need to perform ANOVA and post hoc tests in R. That is, I only need our measurement (normalized intensity) and treatment/reactivation labels. "
   ]
  },
  {
   "cell_type": "code",
   "execution_count": 1,
   "metadata": {},
   "outputs": [
    {
     "name": "stderr",
     "output_type": "stream",
     "text": [
      "/var/folders/b2/3h2lpxx14kgb12pp_7pltxnc0000gn/T/ipykernel_22615/2916776140.py:3: DeprecationWarning: \n",
      "Pyarrow will become a required dependency of pandas in the next major release of pandas (pandas 3.0),\n",
      "(to allow more performant data types, such as the Arrow string type, and better interoperability with other libraries)\n",
      "but was not found to be installed on your system.\n",
      "If this would cause problems for you,\n",
      "please provide us feedback at https://github.com/pandas-dev/pandas/issues/54466\n",
      "        \n",
      "  import pandas as pd\n"
     ]
    }
   ],
   "source": [
    "import os\n",
    "import numpy as np\n",
    "import pandas as pd"
   ]
  },
  {
   "cell_type": "code",
   "execution_count": 8,
   "metadata": {},
   "outputs": [
    {
     "name": "stdout",
     "output_type": "stream",
     "text": [
      "KET-VR5_single_WFA_mean_cell_ns.csv\n",
      "KET-VR5_quad_WFA_mean_cell_ns.csv\n",
      "KET-VR5_WFA_coloc_w_PV,cFos_mean_cell_ns.csv\n",
      "KET-VR5_PV_coloc_w_cFos,WFA_mean_cell_ns.csv\n",
      "KET-VR5_single_cFos_mean_cell_ns.csv\n",
      "KET-VR5_WFA_coloc_w_cFos,Npas4_mean_cell_ns.csv\n",
      "KET-VR5_quad_Npas4_mean_cell_ns.csv\n",
      "KET-VR5_Npas4_coloc_w_cFos,WFA_mean_cell_ns.csv\n",
      "KET-VR5_cFos_coloc_w_Npas4_mean_cell_ns.csv\n",
      "KET-VR5_cFos_coloc_w_PV_mean_cell_ns.csv\n",
      "KET-VR5_WFA_coloc_w_PV,Npas4_mean_cell_ns.csv\n",
      "KET-VR5_PV_coloc_w_cFos,Npas4_mean_cell_ns.csv\n",
      "KET-VR5_Npas4_coloc_w_WFA_mean_cell_ns.csv\n",
      "KET-VR5_PV_coloc_w_cFos_mean_cell_ns.csv\n",
      "KET-VR5_PV_coloc_w_Npas4_mean_cell_ns.csv\n",
      "KET-VR5_single_Npas4_mean_cell_ns.csv\n",
      "KET-VR5_single_PV_mean_cell_ns.csv\n",
      "KET-VR5_cFos_coloc_w_PV,Npas4_mean_cell_ns.csv\n",
      "KET-VR5_PV_coloc_w_Npas4,WFA_mean_cell_ns.csv\n",
      "KET-VR5_Npas4_coloc_w_PV,cFos_mean_cell_ns.csv\n",
      "KET-VR5_cFos_coloc_w_PV,WFA_mean_cell_ns.csv\n",
      "KET-VR5_WFA_coloc_w_Npas4_mean_cell_ns.csv\n",
      "KET-VR5_quad_cFos_mean_cell_ns.csv\n",
      "KET-VR5_cFos_coloc_w_WFA_mean_cell_ns.csv\n",
      "KET-VR5_WFA_coloc_w_cFos_mean_cell_ns.csv\n",
      "KET-VR5_quad_PV_mean_cell_ns.csv\n",
      "KET-VR5_cFos_coloc_w_Npas4,WFA_mean_cell_ns.csv\n",
      "KET-VR5_PV_coloc_w_WFA_mean_cell_ns.csv\n",
      "KET-VR5_WFA_coloc_w_PV_mean_cell_ns.csv\n",
      "KET-VR5_Npas4_coloc_w_cFos_mean_cell_ns.csv\n",
      "KET-VR5_Npas4_coloc_w_PV,WFA_mean_cell_ns.csv\n",
      "KET-VR5_Npas4_coloc_w_PV_mean_cell_ns.csv\n"
     ]
    }
   ],
   "source": [
    "for f in [f for f in os.listdir('standard stain types') if '.csv' in f]:\n",
    "    print(f)\n",
    "    df = pd.read_csv(f'standard stain types/{f}')\n",
    "\n",
    "    # split out react and treat cols from combined label\n",
    "    df['react'] = df.treatment.apply(lambda x: x.split('_')[0])\n",
    "    df['treat'] = df.treatment.apply(lambda x: x.split('_')[1])\n",
    "\n",
    "    # rename some cols for convenience\n",
    "    df = df.rename(columns={'treatment': 'react_treat'})\n",
    "\n",
    "    # write to disk\n",
    "    df[['react_treat', 'react', 'treat', 'mean_cell_n']].to_csv(f.replace('.csv', '_Rsubset.csv'))"
   ]
  },
  {
   "cell_type": "code",
   "execution_count": null,
   "metadata": {},
   "outputs": [],
   "source": []
  }
 ],
 "metadata": {
  "kernelspec": {
   "display_name": "Python 3",
   "language": "python",
   "name": "python3"
  },
  "language_info": {
   "codemirror_mode": {
    "name": "ipython",
    "version": 3
   },
   "file_extension": ".py",
   "mimetype": "text/x-python",
   "name": "python",
   "nbconvert_exporter": "python",
   "pygments_lexer": "ipython3",
   "version": "3.9.1"
  }
 },
 "nbformat": 4,
 "nbformat_minor": 2
}
