{
 "cells": [
  {
   "cell_type": "code",
   "execution_count": 70,
   "metadata": {},
   "outputs": [],
   "source": [
    "import numpy as np\n",
    "import pandas as pd"
   ]
  },
  {
   "cell_type": "code",
   "execution_count": 71,
   "metadata": {},
   "outputs": [],
   "source": [
    "veh = np.load('Vehicle/VR5_Vehicle PFC-HPC_Rside Rewarded Theta xcorr by trial.npy', allow_pickle=True)\n",
    "abc = np.load('ChABC/VR5_ChABC PFC-HPC_Rside Rewarded Theta xcorr by trial.npy', allow_pickle=True)\n",
    "\n",
    "def _norm_minmax(raw_xcorr_bytrial):\n",
    "    norm = [(arr - np.min(arr)) / (np.max(arr) - np.min(arr)) for arr in raw_xcorr_bytrial]\n",
    "\n",
    "    return np.array(norm)\n",
    "\n",
    "np.shape(veh)\n",
    "lags_ms = np.arange(0, 401) / 2000 * 1000 - 100"
   ]
  },
  {
   "cell_type": "code",
   "execution_count": 72,
   "metadata": {},
   "outputs": [
    {
     "name": "stdout",
     "output_type": "stream",
     "text": [
      "0.3890163902410317\n",
      "0.654226026234287\n",
      "0.5976423493632232\n",
      "0.583614612806642\n"
     ]
    }
   ],
   "source": [
    "veh = _norm_minmax(veh)\n",
    "abc = _norm_minmax(abc)\n",
    "\n",
    "veh_r = pd.DataFrame()\n",
    "veh_r['lags_ms'] = lags_ms\n",
    "for i in range(len(veh)):\n",
    "    veh_r[f'trial_{i}'] = veh[i]\n",
    "    \n",
    "abc_r = pd.DataFrame()\n",
    "abc_r['lags_ms'] = lags_ms\n",
    "for i in range(len(abc)):\n",
    "    abc_r[f'trial_{i}'] = abc[i]\n",
    "    \n",
    "veh_nlags = veh_r.where(veh_r.lags_ms < 0).mean(axis=0)[1:]\n",
    "veh_plags = veh_r.where(veh_r.lags_ms > 0).mean(axis=0)[1:]\n",
    "\n",
    "print(veh_nlags.mean())\n",
    "print(veh_plags.mean())\n",
    "\n",
    "abc_nlags = abc_r.where(abc_r.lags_ms < 0).mean(axis=0)[1:]\n",
    "abc_plags = abc_r.where(abc_r.lags_ms > 0).mean(axis=0)[1:]\n",
    "\n",
    "print(abc_nlags.mean())\n",
    "print(abc_plags.mean())"
   ]
  },
  {
   "cell_type": "code",
   "execution_count": 73,
   "metadata": {},
   "outputs": [],
   "source": [
    "veh_nlags.name = 'veh_nlags_mean_r'\n",
    "veh_plags.name = 'veh_plags_mean_r'\n",
    "abc_nlags.name = 'abc_nlags_mean_r'\n",
    "abc_plags.name = 'abc_plags_mean_r'\n",
    "\n",
    "# toss into dataframe, transpose to facilitate entry into prism (grouped col table)\n",
    "df_trial_means = pd.concat([veh_nlags, veh_plags, abc_nlags, abc_plags], axis=1).reset_index().T\n",
    "df_trial_means\n",
    "\n",
    "df_trial_means.to_csv('VR5_PFC-HPC_rewarded_mean_norm_r_bytrial.csv')"
   ]
  },
  {
   "cell_type": "code",
   "execution_count": 74,
   "metadata": {},
   "outputs": [
    {
     "name": "stdout",
     "output_type": "stream",
     "text": [
      "0.47044810852426205\n",
      "0.5645691812675804\n",
      "0.6233107474113333\n",
      "0.6083503712957119\n"
     ]
    }
   ],
   "source": [
    "veh = np.load('Vehicle/VR5_Vehicle PFC-HPC_Rside Unrewarded Theta xcorr by trial.npy', allow_pickle=True)\n",
    "abc = np.load('ChABC/VR5_ChABC PFC-HPC_Rside Unrewarded Theta xcorr by trial.npy', allow_pickle=True)\n",
    "\n",
    "lags_ms = np.arange(0, 401) / 2000 * 1000 - 100\n",
    "\n",
    "veh = _norm_minmax(veh)\n",
    "abc = _norm_minmax(abc)\n",
    "\n",
    "veh_r = pd.DataFrame()\n",
    "veh_r['lags_ms'] = lags_ms\n",
    "for i in range(len(veh)):\n",
    "    veh_r[f'trial_{i}'] = veh[i]\n",
    "    \n",
    "abc_r = pd.DataFrame()\n",
    "abc_r['lags_ms'] = lags_ms\n",
    "for i in range(len(abc)):\n",
    "    abc_r[f'trial_{i}'] = abc[i]\n",
    "    \n",
    "veh_nlags = veh_r.where(veh_r.lags_ms < 0).mean(axis=0)[1:]\n",
    "veh_plags = veh_r.where(veh_r.lags_ms > 0).mean(axis=0)[1:]\n",
    "\n",
    "print(veh_nlags.mean())\n",
    "print(veh_plags.mean())\n",
    "\n",
    "abc_nlags = abc_r.where(abc_r.lags_ms < 0).mean(axis=0)[1:]\n",
    "abc_plags = abc_r.where(abc_r.lags_ms > 0).mean(axis=0)[1:]\n",
    "\n",
    "print(abc_nlags.mean())\n",
    "print(abc_plags.mean())\n",
    "\n",
    "veh_nlags.name = 'veh_nlags_mean_r'\n",
    "veh_plags.name = 'veh_plags_mean_r'\n",
    "abc_nlags.name = 'abc_nlags_mean_r'\n",
    "abc_plags.name = 'abc_plags_mean_r'\n",
    "\n",
    "# toss into dataframe, transpose to facilitate entry into prism (grouped col table)\n",
    "df_trial_means = pd.concat([veh_nlags, veh_plags, abc_nlags, abc_plags], axis=1).reset_index().T\n",
    "df_trial_means\n",
    "\n",
    "df_trial_means.to_csv('VR5_PFC-HPC_unrewarded_mean_norm_r_bytrial.csv')"
   ]
  },
  {
   "cell_type": "code",
   "execution_count": 75,
   "metadata": {},
   "outputs": [
    {
     "name": "stdout",
     "output_type": "stream",
     "text": [
      "0.6165393962063731\n",
      "0.540576306199404\n",
      "0.6278227014828908\n",
      "0.5589446896116824\n"
     ]
    }
   ],
   "source": [
    "veh = np.load('PFC(R)-PFC(L)/VR5_Vehicle PFC(R)-PFC(L) Unrewarded Theta xcorr bytrial.npy', allow_pickle=True)\n",
    "abc = np.load('PFC(R)-PFC(L)/VR5_ChABC PFC(R)-PFC(L) Unrewarded Theta xcorr bytrial.npy', allow_pickle=True)\n",
    "\n",
    "lags_ms = np.arange(0, 401) / 2000 * 1000 - 100\n",
    "\n",
    "veh = _norm_minmax(veh)\n",
    "abc = _norm_minmax(abc)\n",
    "\n",
    "veh_r = pd.DataFrame()\n",
    "veh_r['lags_ms'] = lags_ms\n",
    "for i in range(len(veh)):\n",
    "    veh_r[f'trial_{i}'] = veh[i]\n",
    "    \n",
    "abc_r = pd.DataFrame()\n",
    "abc_r['lags_ms'] = lags_ms\n",
    "for i in range(len(abc)):\n",
    "    abc_r[f'trial_{i}'] = abc[i]\n",
    "    \n",
    "veh_nlags = veh_r.where(veh_r.lags_ms < 0).mean(axis=0)[1:]\n",
    "veh_plags = veh_r.where(veh_r.lags_ms > 0).mean(axis=0)[1:]\n",
    "\n",
    "print(veh_nlags.mean())\n",
    "print(veh_plags.mean())\n",
    "\n",
    "abc_nlags = abc_r.where(abc_r.lags_ms < 0).mean(axis=0)[1:]\n",
    "abc_plags = abc_r.where(abc_r.lags_ms > 0).mean(axis=0)[1:]\n",
    "\n",
    "print(abc_nlags.mean())\n",
    "print(abc_plags.mean())\n",
    "\n",
    "veh_nlags.name = 'veh_nlags_mean_r'\n",
    "veh_plags.name = 'veh_plags_mean_r'\n",
    "abc_nlags.name = 'abc_nlags_mean_r'\n",
    "abc_plags.name = 'abc_plags_mean_r'\n",
    "\n",
    "# toss into dataframe, transpose to facilitate entry into prism (grouped col table)\n",
    "df_trial_means = pd.concat([veh_nlags, veh_plags, abc_nlags, abc_plags], axis=1).reset_index().T\n",
    "df_trial_means\n",
    "\n",
    "df_trial_means.to_csv('VR5_PFC(R)-PFC(L)_unrewarded_mean_norm_r_bytrial.csv')"
   ]
  },
  {
   "cell_type": "code",
   "execution_count": null,
   "metadata": {},
   "outputs": [],
   "source": []
  },
  {
   "cell_type": "code",
   "execution_count": null,
   "metadata": {},
   "outputs": [],
   "source": []
  }
 ],
 "metadata": {
  "kernelspec": {
   "display_name": "Python 3",
   "language": "python",
   "name": "python3"
  },
  "language_info": {
   "codemirror_mode": {
    "name": "ipython",
    "version": 3
   },
   "file_extension": ".py",
   "mimetype": "text/x-python",
   "name": "python",
   "nbconvert_exporter": "python",
   "pygments_lexer": "ipython3",
   "version": "3.7.4"
  }
 },
 "nbformat": 4,
 "nbformat_minor": 2
}
